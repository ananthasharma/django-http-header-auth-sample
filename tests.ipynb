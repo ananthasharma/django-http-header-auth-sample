{
 "cells": [
  {
   "cell_type": "markdown",
   "metadata": {},
   "source": [
    "# Testing of services\n"
   ]
  },
  {
   "cell_type": "markdown",
   "metadata": {},
   "source": [
    "## sqllite3 db contains 2 tables, roles and privileges.. their content are as follows"
   ]
  },
  {
   "cell_type": "code",
   "execution_count": 1,
   "metadata": {
    "scrolled": true
   },
   "outputs": [
    {
     "data": {
      "text/plain": [
       "[('user', 'enter spaceship via trap door'),\n",
       " ('user', 'start spaceship'),\n",
       " ('user', 'increase speed to warp 10'),\n",
       " ('space-pilot', 'connect spaceship to charge'),\n",
       " ('space-pilot', 'check battery level'),\n",
       " ('guy with mop', 'get water from tap near green door'),\n",
       " ('guy with mop', 'entry through all doors')]"
      ]
     },
     "execution_count": 1,
     "metadata": {},
     "output_type": "execute_result"
    }
   ],
   "source": [
    "import sqlite3\n",
    "conn = sqlite3.connect(\"db.sqlite3\")\n",
    "conn.execute(\"select r.role_name, p.priv_name from privileges p inner join roles r on r.role_id = p.role_id\").fetchall()"
   ]
  },
  {
   "cell_type": "markdown",
   "metadata": {},
   "source": [
    "### Lets start django server"
   ]
  },
  {
   "cell_type": "markdown",
   "metadata": {},
   "source": [
    "# run the following command in terminal\n",
    "\n",
    "python3 manage.py runserver"
   ]
  },
  {
   "cell_type": "code",
   "execution_count": 6,
   "metadata": {},
   "outputs": [],
   "source": [
    "### ensure server is running"
   ]
  },
  {
   "cell_type": "markdown",
   "metadata": {},
   "source": [
    "### lets invoke the services.. first check user's privileges"
   ]
  },
  {
   "cell_type": "code",
   "execution_count": 7,
   "metadata": {
    "scrolled": true
   },
   "outputs": [
    {
     "name": "stdout",
     "output_type": "stream",
     "text": [
      "HTTP/1.1 200 OK\r",
      "\r\n",
      "\u001b[1mDate\u001b[0m: Thu, 17 Oct 2019 17:05:23 GMT\r",
      "\r\n",
      "\u001b[1mServer\u001b[0m: WSGIServer/0.2 CPython/3.7.4\r",
      "\r\n",
      "\u001b[1mContent-Type\u001b[0m: application/json\r",
      "\r\n",
      "\u001b[1mVary\u001b[0m: Accept\r",
      "\r\n",
      "\u001b[1mAllow\u001b[0m: GET, HEAD, OPTIONS\r",
      "\r\n",
      "\u001b[1mprivileges\u001b[0m: ['enter spaceship via trap door', 'start spaceship', 'increase speed to warp 10']\r",
      "\r\n",
      "\u001b[1mX-Frame-Options\u001b[0m: SAMEORIGIN\r",
      "\r\n",
      "\u001b[1mContent-Length\u001b[0m: 376\r",
      "\r\n",
      "\r",
      "\r\n",
      "[{\"priv_id\":1,\"priv_name\":\"enter spaceship via trap door\"},{\"priv_id\":2,\"priv_name\":\"start spaceship\"},{\"priv_id\":3,\"priv_name\":\"increase speed to warp 10\"},{\"priv_id\":4,\"priv_name\":\"connect spaceship to charge\"},{\"priv_id\":5,\"priv_name\":\"check battery level\"},{\"priv_id\":6,\"priv_name\":\"get water from tap near green door\"},{\"priv_id\":7,\"priv_name\":\"entry through all doors\"}]"
     ]
    }
   ],
   "source": [
    "!curl --header \"HTTP-USER-GROUPS-FIELD: user\" -i http://localhost:8000/privs/"
   ]
  },
  {
   "cell_type": "code",
   "execution_count": 8,
   "metadata": {
    "scrolled": true
   },
   "outputs": [
    {
     "name": "stdout",
     "output_type": "stream",
     "text": [
      "HTTP/1.1 403 Forbidden\r",
      "\r\n",
      "\u001b[1mDate\u001b[0m: Thu, 17 Oct 2019 17:05:24 GMT\r",
      "\r\n",
      "\u001b[1mServer\u001b[0m: WSGIServer/0.2 CPython/3.7.4\r",
      "\r\n",
      "\u001b[1mContent-Type\u001b[0m: application/json\r",
      "\r\n",
      "\u001b[1mVary\u001b[0m: Accept\r",
      "\r\n",
      "\u001b[1mAllow\u001b[0m: GET, HEAD, OPTIONS\r",
      "\r\n",
      "\u001b[1mX-Frame-Options\u001b[0m: SAMEORIGIN\r",
      "\r\n",
      "\u001b[1mContent-Length\u001b[0m: 36\r",
      "\r\n",
      "\r",
      "\r\n",
      "{\"detail\":\"no privileges available\"}"
     ]
    }
   ],
   "source": [
    "!curl --header \"HTTP-USER-GROUPS-FIELD: admin\" -i http://localhost:8000/privs/"
   ]
  },
  {
   "cell_type": "code",
   "execution_count": 9,
   "metadata": {},
   "outputs": [],
   "source": [
    "# when invoked with \"HTTP-USER-GROUPS-FIELD: admin\" the service returns Http/403 \n",
    "#indicating the role admin doesnt have aby privileges."
   ]
  },
  {
   "cell_type": "code",
   "execution_count": null,
   "metadata": {},
   "outputs": [],
   "source": []
  },
  {
   "cell_type": "code",
   "execution_count": null,
   "metadata": {},
   "outputs": [],
   "source": []
  }
 ],
 "metadata": {
  "kernelspec": {
   "display_name": "Python 3",
   "language": "python",
   "name": "python3"
  },
  "language_info": {
   "codemirror_mode": {
    "name": "ipython",
    "version": 3
   },
   "file_extension": ".py",
   "mimetype": "text/x-python",
   "name": "python",
   "nbconvert_exporter": "python",
   "pygments_lexer": "ipython3",
   "version": "3.7.3"
  }
 },
 "nbformat": 4,
 "nbformat_minor": 2
}
